{
  "cells": [
    {
      "cell_type": "code",
      "execution_count": 1,
      "metadata": {
        "id": "bGeb1jYwNP2G"
      },
      "outputs": [],
      "source": [
        "################################################################################\n",
        "################# Do not change the code in this cell ##########################\n",
        "################################################################################\n",
        "\n",
        "import torch\n",
        "import torch.nn as nn\n",
        "import torch.nn.functional as F\n",
        "import torch.optim as optim\n",
        "from torchvision import datasets, transforms\n",
        "import tqdm\n",
        "\n",
        "\n",
        "class Net(nn.Module):\n",
        "    def __init__(self, hidden_dim):\n",
        "        super(Net, self).__init__()\n",
        "        self.conv1 = nn.Conv2d(1, hidden_dim, 3, 1)\n",
        "        self.conv2 = nn.Conv2d(hidden_dim, 64, 3, 1)\n",
        "        self.dropout = nn.Dropout(0.25)\n",
        "        self.fc1 = nn.Linear(9216, 128)\n",
        "        self.fc2 = nn.Linear(128, 10)\n",
        "\n",
        "    def forward(self, x):\n",
        "        x = self.conv1(x)\n",
        "        x = F.relu(x)\n",
        "        x = self.conv2(x)\n",
        "        x = F.relu(x)\n",
        "        x = F.max_pool2d(x, 2)\n",
        "        x = torch.flatten(x, 1)\n",
        "        x = self.fc1(x)\n",
        "        x = F.relu(x)\n",
        "        x = self.dropout(x)\n",
        "        x = self.fc2(x)\n",
        "        output = F.log_softmax(x, dim=1)\n",
        "        return output\n",
        "\n",
        "train_set = datasets.MNIST('./data', train=True, download=True, transform=transforms.ToTensor())\n",
        "test_set = datasets.MNIST('./data', train=False, download=True, transform=transforms.ToTensor())\n",
        "train_loader = torch.utils.data.DataLoader(train_set, batch_size=32, shuffle=True)\n",
        "test_loader = torch.utils.data.DataLoader(test_set, batch_size=128, shuffle=True)\n",
        "\n",
        "################################################################################\n",
        "################# Do not change the code in this cell ##########################\n",
        "################################################################################"
      ]
    },
    {
      "cell_type": "code",
      "execution_count": null,
      "metadata": {
        "id": "y3CwK60ZOV4w"
      },
      "outputs": [],
      "source": [
        "def train_for_five_epochs(model, optimizer, dataloader):\n",
        "    model.train()\n",
        "    for epoch in range(5):\n",
        "        for imgs, labels in tqdm.tqdm(dataloader):\n",
        "            imgs, labels = imgs.cuda(), labels.cuda()\n",
        "            out = model(imgs)\n",
        "            loss = F.nll_loss(out, labels)\n",
        "            optimizer.zero_grad()\n",
        "            loss.backward()\n",
        "            optimizer.step()\n",
        "\n",
        "def test(model, dataloader):\n",
        "    model.eval()\n",
        "    correct = 0\n",
        "    with torch.no_grad():\n",
        "        for imgs, labels in tqdm.tqdm(dataloader):\n",
        "            imgs, labels = imgs.cuda(), labels.cuda()\n",
        "            out = model(imgs)\n",
        "            predictions = out.argmax(dim=1, keepdim=True)  \n",
        "            correct += predictions.eq(labels.view_as(predictions)).sum().item()\n",
        "    print(correct/len(dataloader.dataset))\n",
        "\n",
        "\n",
        "hidden_dim    = 32\n",
        "learning_rate = 0.01\n",
        "momentum      = 0.9\n",
        "\n",
        "network = Net(hidden_dim).cuda()\n",
        "optimizer = torch.optim.SGD(network.parameters(), lr=learning_rate, momentum=momentum)\n",
        "\n",
        "\n",
        "train_for_five_epochs(network, optimizer, train_loader)\n",
        "test(network, test_loader)"
      ]
    }
  ],
  "metadata": {
    "accelerator": "GPU",
    "colab": {
      "collapsed_sections": [],
      "name": "wandb_template.ipynb",
      "provenance": []
    },
    "kernelspec": {
      "display_name": "Python 3",
      "name": "python3"
    },
    "language_info": {
      "name": "python"
    }
  },
  "nbformat": 4,
  "nbformat_minor": 0
}
