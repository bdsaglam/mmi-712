{
  "cells": [
    {
      "cell_type": "code",
      "execution_count": 1,
      "metadata": {
        "colab": {
          "base_uri": "https://localhost:8080/",
          "height": 205,
          "referenced_widgets": [
            "a834a4b92e21468b96637ff3f2ca7517",
            "8f0ca3417a27437c92b14201fddd6066",
            "51869712e25a41e9a68045a83f833b14",
            "b5cb2d0158c8491191b101ba7633e8af",
            "d23cb4a78dd74fb78a7ffa3ddc2c9b04",
            "5462c5476b854ef497d2136b7db260bf",
            "f4d6122fe47f4b83b593ee2b5f47d827",
            "7f6c905db06c4cdfbade2be11f0b2e08",
            "a4a3858b2fb74181aa386eaefab084f1",
            "e97267dfd6214a3a8ed4a3fcf4474301",
            "2aedab16b5c34aca94fec2f4edd51265",
            "c53f2ec413054a05bd787db2f4c1fd1c",
            "50bd3c3602784dc3a669f6f7abb65c5e",
            "d816fbe50baf49be88361ed4b72a7b52",
            "ba22fb77617a483a9b23dca7b853e917",
            "cb259a76734e47bc801ecb3d656b775e",
            "a2b7b5ec1ff740aeb29918060479b095",
            "12bbf121995749718ef1edfcb864ffe3",
            "46ea12d85ce4423b911f0971a86ca618",
            "7eaa71c797854323a1f127235974a307",
            "ee66afb0b1714b3e9385789b0335ec4b",
            "ff83d8950b184204940968ff28774596"
          ]
        },
        "id": "EOnGEp4dPJbi",
        "outputId": "9bc24717-83d1-44d4-d4c9-8b3d4a66c4eb"
      },
      "outputs": [
        {
          "name": "stdout",
          "output_type": "stream",
          "text": [
            "Downloading https://www.cs.toronto.edu/~kriz/cifar-100-python.tar.gz to ./data/cifar-100-python.tar.gz\n"
          ]
        },
        {
          "data": {
            "application/vnd.jupyter.widget-view+json": {
              "model_id": "a834a4b92e21468b96637ff3f2ca7517",
              "version_major": 2,
              "version_minor": 0
            },
            "text/plain": [
              "  0%|          | 0/169001437 [00:00<?, ?it/s]"
            ]
          },
          "metadata": {},
          "output_type": "display_data"
        },
        {
          "name": "stdout",
          "output_type": "stream",
          "text": [
            "Extracting ./data/cifar-100-python.tar.gz to ./data\n"
          ]
        },
        {
          "name": "stderr",
          "output_type": "stream",
          "text": [
            "/usr/local/lib/python3.8/dist-packages/torch/hub.py:267: UserWarning: You are about to download and run code from an untrusted repository. In a future release, this won't be allowed. To add the repository to your trusted list, change the command to {calling_fn}(..., trust_repo=False) and a command prompt will appear asking for an explicit confirmation of trust, or load(..., trust_repo=True), which will assume that the prompt is to be answered with 'yes'. You can also use load(..., trust_repo='check') which will only prompt for confirmation if the repo is not already trusted. This will eventually be the default behaviour\n",
            "  warnings.warn(\n",
            "Downloading: \"https://github.com/chenyaofo/pytorch-cifar-models/zipball/master\" to /root/.cache/torch/hub/master.zip\n",
            "Downloading: \"https://github.com/chenyaofo/pytorch-cifar-models/releases/download/resnet/cifar100_resnet56-f2eff4c8.pt\" to /root/.cache/torch/hub/checkpoints/cifar100_resnet56-f2eff4c8.pt\n"
          ]
        },
        {
          "data": {
            "application/vnd.jupyter.widget-view+json": {
              "model_id": "c53f2ec413054a05bd787db2f4c1fd1c",
              "version_major": 2,
              "version_minor": 0
            },
            "text/plain": [
              "  0%|          | 0.00/3.41M [00:00<?, ?B/s]"
            ]
          },
          "metadata": {},
          "output_type": "display_data"
        }
      ],
      "source": [
        "import torch, torchvision\n",
        "import torchvision.transforms as T\n",
        "import tqdm\n",
        "\n",
        "DEVICE = torch.device(\"cuda\" if torch.cuda.is_available() else \"cpu\")\n",
        "\n",
        "# Load CIFAR100 test dataset\n",
        "transform = T.Compose(\n",
        "    [\n",
        "        T.ToTensor(),\n",
        "        T.Normalize(mean=[0.507, 0.4865, 0.4409], std=[0.2673, 0.2564, 0.2761]),\n",
        "    ]\n",
        ")\n",
        "test_dataset = torchvision.datasets.CIFAR100(\n",
        "    root=\"./data\", train=False, download=True, transform=transform\n",
        ")\n",
        "test_loader = torch.utils.data.DataLoader(test_dataset, batch_size=128, shuffle=False)\n",
        "\n",
        "# Load CIFAR100 pretrained model\n",
        "model = torch.hub.load(\n",
        "    \"chenyaofo/pytorch-cifar-models\", \"cifar100_resnet56\", pretrained=True\n",
        ")"
      ]
    },
    {
      "cell_type": "code",
      "execution_count": 2,
      "metadata": {
        "colab": {
          "base_uri": "https://localhost:8080/"
        },
        "id": "k6Zdh81YPJbk",
        "outputId": "fe2cac59-2c7a-4335-b706-623aedcc2db4"
      },
      "outputs": [
        {
          "name": "stderr",
          "output_type": "stream",
          "text": [
            "100%|██████████| 79/79 [00:10<00:00,  7.63it/s]"
          ]
        },
        {
          "name": "stdout",
          "output_type": "stream",
          "text": [
            "0.9194\n"
          ]
        },
        {
          "name": "stderr",
          "output_type": "stream",
          "text": [
            "\n"
          ]
        }
      ],
      "source": [
        "def check_accuracy(loader, model):\n",
        "    \"\"\"Check top 5 accuracy of a model on a given dataset\"\"\"\n",
        "    model.to(DEVICE)\n",
        "    num_correct = 0\n",
        "    num_samples = 0\n",
        "    model.eval()\n",
        "\n",
        "    with torch.no_grad():\n",
        "        for x, y in tqdm.tqdm(loader):\n",
        "            scores = model(x.to(DEVICE))\n",
        "            _, preds = scores.topk(5, 1, True, True)\n",
        "            preds = preds.t()\n",
        "            correct = preds.cpu().eq(y.view(1, -1).expand_as(preds))\n",
        "            num_correct += correct[:5].reshape(-1).float().sum(0, keepdim=True)\n",
        "            num_samples += x.shape[0]\n",
        "\n",
        "        acc = float(num_correct) / num_samples\n",
        "        return acc\n",
        "\n",
        "\n",
        "# Check top 5 accuracy of the model on the test dataset\n",
        "acc = check_accuracy(test_loader, model)\n",
        "print(acc)\n"
      ]
    },
    {
      "cell_type": "code",
      "execution_count": 3,
      "metadata": {
        "id": "b0ylTcVNPJbl"
      },
      "outputs": [],
      "source": [
        "# Prune the model and make experiments according to the assignment pdf\n",
        "import torch.nn.utils.prune as prune\n",
        "import numpy as np\n",
        "\n",
        "##FILL HERE\n",
        "def get_prunable_parameters(model, conv=True, linear=True):\n",
        "    for name, module in model.named_modules():\n",
        "        if conv and isinstance(module, torch.nn.Conv2d):\n",
        "            yield (module, 'weight')\n",
        "        elif linear and isinstance(module, torch.nn.Linear):\n",
        "            yield (module, 'weight')\n",
        "            yield (module, 'bias')\n",
        "\n",
        "def get_pruned_model(pruner):\n",
        "    model = torch.hub.load(\n",
        "        \"chenyaofo/pytorch-cifar-models\", \"cifar100_resnet56\", pretrained=True\n",
        "    )\n",
        "    pruner(list(get_prunable_parameters(model)))\n",
        "    return model\n",
        "\n",
        "def global_ln_structured(params, amount, n, dim, **kwargs):\n",
        "    for module, name in params:\n",
        "        if isinstance(module, torch.nn.Linear):\n",
        "            continue\n",
        "        prune.ln_structured(module, name=name, amount=amount, n=n, dim=dim, **kwargs)"
      ]
    },
    {
      "cell_type": "code",
      "execution_count": 4,
      "metadata": {
        "id": "LBinK17SYDed"
      },
      "outputs": [],
      "source": [
        "# Reference: https://leimao.github.io/blog/PyTorch-Pruning/\n",
        "\n",
        "import os\n",
        "import copy\n",
        "import torch\n",
        "import torch.nn.utils.prune as prune\n",
        "\n",
        "def measure_module_sparsity(module, weight=True, bias=False, use_mask=False):\n",
        "\n",
        "    num_zeros = 0\n",
        "    num_elements = 1e-6\n",
        "\n",
        "    if use_mask == True:\n",
        "        for buffer_name, buffer in module.named_buffers():\n",
        "            if \"weight_mask\" in buffer_name and weight == True:\n",
        "                num_zeros += torch.sum(buffer == 0).item()\n",
        "                num_elements += buffer.nelement()\n",
        "            if \"bias_mask\" in buffer_name and bias == True:\n",
        "                num_zeros += torch.sum(buffer == 0).item()\n",
        "                num_elements += buffer.nelement()\n",
        "    else:\n",
        "        for param_name, param in module.named_parameters():\n",
        "            if \"weight\" in param_name and weight == True:\n",
        "                num_zeros += torch.sum(param == 0).item()\n",
        "                num_elements += param.nelement()\n",
        "            if \"bias\" in param_name and bias == True:\n",
        "                num_zeros += torch.sum(param == 0).item()\n",
        "                num_elements += param.nelement()\n",
        "\n",
        "    sparsity = num_zeros / num_elements\n",
        "\n",
        "    return num_zeros, num_elements, sparsity\n",
        "\n",
        "\n",
        "def measure_global_sparsity(model,\n",
        "                            weight=True,\n",
        "                            bias=False,\n",
        "                            conv2d_use_mask=False,\n",
        "                            linear_use_mask=False):\n",
        "\n",
        "    num_zeros = 0\n",
        "    num_elements = 1e-6\n",
        "\n",
        "    for module_name, module in model.named_modules():\n",
        "\n",
        "        if isinstance(module, torch.nn.Conv2d):\n",
        "\n",
        "            module_num_zeros, module_num_elements, _ = measure_module_sparsity(\n",
        "                module, weight=weight, bias=bias, use_mask=conv2d_use_mask)\n",
        "            num_zeros += module_num_zeros\n",
        "            num_elements += module_num_elements\n",
        "\n",
        "        elif isinstance(module, torch.nn.Linear):\n",
        "\n",
        "            module_num_zeros, module_num_elements, _ = measure_module_sparsity(\n",
        "                module, weight=weight, bias=bias, use_mask=linear_use_mask)\n",
        "            num_zeros += module_num_zeros\n",
        "            num_elements += module_num_elements\n",
        "\n",
        "    sparsity = num_zeros / num_elements\n",
        "\n",
        "    return num_zeros, num_elements, sparsity"
      ]
    },
    {
      "cell_type": "code",
      "execution_count": 6,
      "metadata": {
        "colab": {
          "base_uri": "https://localhost:8080/",
          "height": 1000
        },
        "id": "iO8tkoLOZkMC",
        "outputId": "91e616ba-f01e-42d0-e2c0-0bf9bb32b400"
      },
      "outputs": [
        {
          "name": "stderr",
          "output_type": "stream",
          "text": [
            "Using cache found in /root/.cache/torch/hub/chenyaofo_pytorch-cifar-models_master\n"
          ]
        },
        {
          "name": "stdout",
          "output_type": "stream",
          "text": [
            "Desired Sparsity: 0.0% | Achieved Sparsity: 0.0% | Success? True\n"
          ]
        },
        {
          "name": "stderr",
          "output_type": "stream",
          "text": [
            "100%|██████████| 79/79 [00:03<00:00, 20.52it/s]\n",
            "Using cache found in /root/.cache/torch/hub/chenyaofo_pytorch-cifar-models_master\n"
          ]
        },
        {
          "name": "stdout",
          "output_type": "stream",
          "text": [
            "Desired Sparsity: 10.0% | Achieved Sparsity: 10.0% | Success? True\n"
          ]
        },
        {
          "name": "stderr",
          "output_type": "stream",
          "text": [
            "100%|██████████| 79/79 [00:03<00:00, 22.62it/s]\n",
            "Using cache found in /root/.cache/torch/hub/chenyaofo_pytorch-cifar-models_master\n"
          ]
        },
        {
          "name": "stdout",
          "output_type": "stream",
          "text": [
            "Desired Sparsity: 20.0% | Achieved Sparsity: 20.0% | Success? True\n"
          ]
        },
        {
          "name": "stderr",
          "output_type": "stream",
          "text": [
            "100%|██████████| 79/79 [00:03<00:00, 22.29it/s]\n",
            "Using cache found in /root/.cache/torch/hub/chenyaofo_pytorch-cifar-models_master\n"
          ]
        },
        {
          "name": "stdout",
          "output_type": "stream",
          "text": [
            "Desired Sparsity: 30.0% | Achieved Sparsity: 30.0% | Success? True\n"
          ]
        },
        {
          "name": "stderr",
          "output_type": "stream",
          "text": [
            "100%|██████████| 79/79 [00:03<00:00, 23.08it/s]\n",
            "Using cache found in /root/.cache/torch/hub/chenyaofo_pytorch-cifar-models_master\n"
          ]
        },
        {
          "name": "stdout",
          "output_type": "stream",
          "text": [
            "Desired Sparsity: 40.0% | Achieved Sparsity: 40.0% | Success? True\n"
          ]
        },
        {
          "name": "stderr",
          "output_type": "stream",
          "text": [
            "100%|██████████| 79/79 [00:03<00:00, 22.68it/s]\n",
            "Using cache found in /root/.cache/torch/hub/chenyaofo_pytorch-cifar-models_master\n"
          ]
        },
        {
          "name": "stdout",
          "output_type": "stream",
          "text": [
            "Desired Sparsity: 50.0% | Achieved Sparsity: 50.0% | Success? True\n"
          ]
        },
        {
          "name": "stderr",
          "output_type": "stream",
          "text": [
            "100%|██████████| 79/79 [00:03<00:00, 22.57it/s]\n",
            "Using cache found in /root/.cache/torch/hub/chenyaofo_pytorch-cifar-models_master\n"
          ]
        },
        {
          "name": "stdout",
          "output_type": "stream",
          "text": [
            "Desired Sparsity: 60.0% | Achieved Sparsity: 60.0% | Success? True\n"
          ]
        },
        {
          "name": "stderr",
          "output_type": "stream",
          "text": [
            "100%|██████████| 79/79 [00:03<00:00, 22.59it/s]\n",
            "Using cache found in /root/.cache/torch/hub/chenyaofo_pytorch-cifar-models_master\n"
          ]
        },
        {
          "name": "stdout",
          "output_type": "stream",
          "text": [
            "Desired Sparsity: 70.0% | Achieved Sparsity: 70.0% | Success? True\n"
          ]
        },
        {
          "name": "stderr",
          "output_type": "stream",
          "text": [
            "100%|██████████| 79/79 [00:03<00:00, 23.12it/s]\n",
            "Using cache found in /root/.cache/torch/hub/chenyaofo_pytorch-cifar-models_master\n"
          ]
        },
        {
          "name": "stdout",
          "output_type": "stream",
          "text": [
            "Desired Sparsity: 80.0% | Achieved Sparsity: 80.0% | Success? True\n"
          ]
        },
        {
          "name": "stderr",
          "output_type": "stream",
          "text": [
            "100%|██████████| 79/79 [00:03<00:00, 22.78it/s]\n",
            "Using cache found in /root/.cache/torch/hub/chenyaofo_pytorch-cifar-models_master\n"
          ]
        },
        {
          "name": "stdout",
          "output_type": "stream",
          "text": [
            "Desired Sparsity: 90.0% | Achieved Sparsity: 90.0% | Success? True\n"
          ]
        },
        {
          "name": "stderr",
          "output_type": "stream",
          "text": [
            "100%|██████████| 79/79 [00:03<00:00, 22.71it/s]\n",
            "Using cache found in /root/.cache/torch/hub/chenyaofo_pytorch-cifar-models_master\n"
          ]
        },
        {
          "name": "stdout",
          "output_type": "stream",
          "text": [
            "Desired Sparsity: 0.0% | Achieved Sparsity: 0.0% | Success? True\n"
          ]
        },
        {
          "name": "stderr",
          "output_type": "stream",
          "text": [
            "100%|██████████| 79/79 [00:04<00:00, 19.63it/s]\n",
            "Using cache found in /root/.cache/torch/hub/chenyaofo_pytorch-cifar-models_master\n"
          ]
        },
        {
          "name": "stdout",
          "output_type": "stream",
          "text": [
            "Desired Sparsity: 10.0% | Achieved Sparsity: 10.0% | Success? True\n"
          ]
        },
        {
          "name": "stderr",
          "output_type": "stream",
          "text": [
            "100%|██████████| 79/79 [00:04<00:00, 18.18it/s]\n",
            "Using cache found in /root/.cache/torch/hub/chenyaofo_pytorch-cifar-models_master\n"
          ]
        },
        {
          "name": "stdout",
          "output_type": "stream",
          "text": [
            "Desired Sparsity: 20.0% | Achieved Sparsity: 20.0% | Success? True\n"
          ]
        },
        {
          "name": "stderr",
          "output_type": "stream",
          "text": [
            "100%|██████████| 79/79 [00:03<00:00, 22.74it/s]\n",
            "Using cache found in /root/.cache/torch/hub/chenyaofo_pytorch-cifar-models_master\n"
          ]
        },
        {
          "name": "stdout",
          "output_type": "stream",
          "text": [
            "Desired Sparsity: 30.0% | Achieved Sparsity: 30.0% | Success? True\n"
          ]
        },
        {
          "name": "stderr",
          "output_type": "stream",
          "text": [
            "100%|██████████| 79/79 [00:03<00:00, 23.14it/s]\n",
            "Using cache found in /root/.cache/torch/hub/chenyaofo_pytorch-cifar-models_master\n"
          ]
        },
        {
          "name": "stdout",
          "output_type": "stream",
          "text": [
            "Desired Sparsity: 40.0% | Achieved Sparsity: 40.0% | Success? True\n"
          ]
        },
        {
          "name": "stderr",
          "output_type": "stream",
          "text": [
            "100%|██████████| 79/79 [00:03<00:00, 22.69it/s]\n",
            "Using cache found in /root/.cache/torch/hub/chenyaofo_pytorch-cifar-models_master\n"
          ]
        },
        {
          "name": "stdout",
          "output_type": "stream",
          "text": [
            "Desired Sparsity: 50.0% | Achieved Sparsity: 50.0% | Success? True\n"
          ]
        },
        {
          "name": "stderr",
          "output_type": "stream",
          "text": [
            "100%|██████████| 79/79 [00:03<00:00, 22.97it/s]\n",
            "Using cache found in /root/.cache/torch/hub/chenyaofo_pytorch-cifar-models_master\n"
          ]
        },
        {
          "name": "stdout",
          "output_type": "stream",
          "text": [
            "Desired Sparsity: 60.0% | Achieved Sparsity: 60.0% | Success? True\n"
          ]
        },
        {
          "name": "stderr",
          "output_type": "stream",
          "text": [
            "100%|██████████| 79/79 [00:03<00:00, 22.66it/s]\n",
            "Using cache found in /root/.cache/torch/hub/chenyaofo_pytorch-cifar-models_master\n"
          ]
        },
        {
          "name": "stdout",
          "output_type": "stream",
          "text": [
            "Desired Sparsity: 70.0% | Achieved Sparsity: 70.0% | Success? True\n"
          ]
        },
        {
          "name": "stderr",
          "output_type": "stream",
          "text": [
            "100%|██████████| 79/79 [00:03<00:00, 22.79it/s]\n",
            "Using cache found in /root/.cache/torch/hub/chenyaofo_pytorch-cifar-models_master\n"
          ]
        },
        {
          "name": "stdout",
          "output_type": "stream",
          "text": [
            "Desired Sparsity: 80.0% | Achieved Sparsity: 80.0% | Success? True\n"
          ]
        },
        {
          "name": "stderr",
          "output_type": "stream",
          "text": [
            "100%|██████████| 79/79 [00:03<00:00, 22.73it/s]\n",
            "Using cache found in /root/.cache/torch/hub/chenyaofo_pytorch-cifar-models_master\n"
          ]
        },
        {
          "name": "stdout",
          "output_type": "stream",
          "text": [
            "Desired Sparsity: 90.0% | Achieved Sparsity: 90.0% | Success? True\n"
          ]
        },
        {
          "name": "stderr",
          "output_type": "stream",
          "text": [
            "100%|██████████| 79/79 [00:03<00:00, 23.39it/s]\n",
            "Using cache found in /root/.cache/torch/hub/chenyaofo_pytorch-cifar-models_master\n"
          ]
        },
        {
          "name": "stdout",
          "output_type": "stream",
          "text": [
            "Desired Sparsity: 0.0% | Achieved Sparsity: 0.0% | Success? True\n"
          ]
        },
        {
          "name": "stderr",
          "output_type": "stream",
          "text": [
            "100%|██████████| 79/79 [00:03<00:00, 23.16it/s]\n",
            "Using cache found in /root/.cache/torch/hub/chenyaofo_pytorch-cifar-models_master\n"
          ]
        },
        {
          "name": "stdout",
          "output_type": "stream",
          "text": [
            "Desired Sparsity: 10.0% | Achieved Sparsity: 0.0% | Success? False\n"
          ]
        },
        {
          "name": "stderr",
          "output_type": "stream",
          "text": [
            "100%|██████████| 79/79 [00:03<00:00, 23.13it/s]\n",
            "Using cache found in /root/.cache/torch/hub/chenyaofo_pytorch-cifar-models_master\n"
          ]
        },
        {
          "name": "stdout",
          "output_type": "stream",
          "text": [
            "Desired Sparsity: 20.0% | Achieved Sparsity: 33.2% | Success? False\n"
          ]
        },
        {
          "name": "stderr",
          "output_type": "stream",
          "text": [
            "100%|██████████| 79/79 [00:03<00:00, 23.05it/s]\n",
            "Using cache found in /root/.cache/torch/hub/chenyaofo_pytorch-cifar-models_master\n"
          ]
        },
        {
          "name": "stdout",
          "output_type": "stream",
          "text": [
            "Desired Sparsity: 30.0% | Achieved Sparsity: 33.2% | Success? False\n"
          ]
        },
        {
          "name": "stderr",
          "output_type": "stream",
          "text": [
            "100%|██████████| 79/79 [00:03<00:00, 22.88it/s]\n",
            "Using cache found in /root/.cache/torch/hub/chenyaofo_pytorch-cifar-models_master\n"
          ]
        },
        {
          "name": "stdout",
          "output_type": "stream",
          "text": [
            "Desired Sparsity: 40.0% | Achieved Sparsity: 33.2% | Success? False\n"
          ]
        },
        {
          "name": "stderr",
          "output_type": "stream",
          "text": [
            "100%|██████████| 79/79 [00:03<00:00, 22.90it/s]\n",
            "Using cache found in /root/.cache/torch/hub/chenyaofo_pytorch-cifar-models_master\n"
          ]
        },
        {
          "name": "stdout",
          "output_type": "stream",
          "text": [
            "Desired Sparsity: 50.0% | Achieved Sparsity: 66.5% | Success? False\n"
          ]
        },
        {
          "name": "stderr",
          "output_type": "stream",
          "text": [
            "100%|██████████| 79/79 [00:03<00:00, 23.03it/s]\n",
            "Using cache found in /root/.cache/torch/hub/chenyaofo_pytorch-cifar-models_master\n"
          ]
        },
        {
          "name": "stdout",
          "output_type": "stream",
          "text": [
            "Desired Sparsity: 60.0% | Achieved Sparsity: 66.8% | Success? False\n"
          ]
        },
        {
          "name": "stderr",
          "output_type": "stream",
          "text": [
            "100%|██████████| 79/79 [00:03<00:00, 22.89it/s]\n",
            "Using cache found in /root/.cache/torch/hub/chenyaofo_pytorch-cifar-models_master\n"
          ]
        },
        {
          "name": "stdout",
          "output_type": "stream",
          "text": [
            "Desired Sparsity: 70.0% | Achieved Sparsity: 66.8% | Success? False\n"
          ]
        },
        {
          "name": "stderr",
          "output_type": "stream",
          "text": [
            "100%|██████████| 79/79 [00:03<00:00, 23.19it/s]\n",
            "Using cache found in /root/.cache/torch/hub/chenyaofo_pytorch-cifar-models_master\n"
          ]
        },
        {
          "name": "stdout",
          "output_type": "stream",
          "text": [
            "Desired Sparsity: 80.0% | Achieved Sparsity: 66.8% | Success? False\n"
          ]
        },
        {
          "name": "stderr",
          "output_type": "stream",
          "text": [
            "100%|██████████| 79/79 [00:03<00:00, 23.23it/s]\n",
            "Using cache found in /root/.cache/torch/hub/chenyaofo_pytorch-cifar-models_master\n"
          ]
        },
        {
          "name": "stdout",
          "output_type": "stream",
          "text": [
            "Desired Sparsity: 90.0% | Achieved Sparsity: 100.0% | Success? False\n"
          ]
        },
        {
          "name": "stderr",
          "output_type": "stream",
          "text": [
            "100%|██████████| 79/79 [00:03<00:00, 22.75it/s]\n"
          ]
        },
        {
          "data": {
            "image/png": "[encoded data removed]",
            "text/plain": [
              "<Figure size 432x288 with 1 Axes>"
            ]
          },
          "metadata": {
            "needs_background": "light"
          },
          "output_type": "display_data"
        }
      ],
      "source": [
        "import matplotlib.pyplot as plt\n",
        "\n",
        "fig = plt.figure()\n",
        "for config in [\n",
        "    {'name': 'Random Unstructured Pruning', 'pruner': lambda params, amount: prune.global_unstructured(params, pruning_method=prune.RandomUnstructured, amount=amount)},\n",
        "    {'name': 'L1 Unstructured Pruning', 'pruner': lambda params, amount: prune.global_unstructured(params, pruning_method=prune.L1Unstructured, amount=amount)},\n",
        "    {'name': 'L2 Structured Pruning', 'pruner': lambda params, amount: global_ln_structured(params, amount, n=2, dim=-1)},\n",
        "]:\n",
        "    amounts = np.arange(0, 1, 0.1)\n",
        "    accuracies = []\n",
        "    for amount in amounts:\n",
        "        pruner = lambda params: config['pruner'](params, amount=amount)\n",
        "        pruned_model = get_pruned_model(pruner)\n",
        "        sparsity = measure_global_sparsity(pruned_model, conv2d_use_mask=True, linear_use_mask=True)[-1] \n",
        "        print(f\"Desired Sparsity: {amount:.1%} | Achieved Sparsity: {sparsity:.1%} | Success? {np.isclose(amount, sparsity, atol=0.01)}\")\n",
        "        accuracies.append(check_accuracy(test_loader, pruned_model))\n",
        "\n",
        "    plt.plot(amounts, accuracies, label=config['name'])\n",
        "\n",
        "plt.xlabel(\"Pruning ratio\")\n",
        "plt.ylabel(\"Accuracy\")\n",
        "plt.legend()\n",
        "plt.show()"
      ]
    },
    {
      "cell_type": "code",
      "execution_count": 5,
      "metadata": {
        "id": "g7v1I7uCsGY1"
      },
      "outputs": [],
      "source": []
    }
  ],
  "metadata": {
    "accelerator": "GPU",
    "colab": {
      "provenance": []
    },
    "gpuClass": "standard",
    "kernelspec": {
      "display_name": "mmi712",
      "language": "python",
      "name": "python3"
    },
    "language_info": {
      "codemirror_mode": {
        "name": "ipython",
        "version": 3
      },
      "file_extension": ".py",
      "mimetype": "text/x-python",
      "name": "python",
      "nbconvert_exporter": "python",
      "pygments_lexer": "ipython3",
      "version": "3.10.6 (main, Oct 24 2022, 11:04:34) [Clang 12.0.0 ]"
    },
    "orig_nbformat": 4,
    "vscode": {
      "interpreter": {
        "hash": "5fc9316ff72d967388239ba1ad36b9d66d54ad9dd1b04500074657cac8a2c205"
      }
    },
    "widgets": {
      "application/vnd.jupyter.widget-state+json": {
        "12bbf121995749718ef1edfcb864ffe3": {
          "model_module": "@jupyter-widgets/controls",
          "model_module_version": "1.5.0",
          "model_name": "DescriptionStyleModel",
          "state": {
            "_model_module": "@jupyter-widgets/controls",
            "_model_module_version": "1.5.0",
            "_model_name": "DescriptionStyleModel",
            "_view_count": null,
            "_view_module": "@jupyter-widgets/base",
            "_view_module_version": "1.2.0",
            "_view_name": "StyleView",
            "description_width": ""
          }
        },
        "2aedab16b5c34aca94fec2f4edd51265": {
          "model_module": "@jupyter-widgets/controls",
          "model_module_version": "1.5.0",
          "model_name": "DescriptionStyleModel",
          "state": {
            "_model_module": "@jupyter-widgets/controls",
            "_model_module_version": "1.5.0",
            "_model_name": "DescriptionStyleModel",
            "_view_count": null,
            "_view_module": "@jupyter-widgets/base",
            "_view_module_version": "1.2.0",
            "_view_name": "StyleView",
            "description_width": ""
          }
        },
        "46ea12d85ce4423b911f0971a86ca618": {
          "model_module": "@jupyter-widgets/base",
          "model_module_version": "1.2.0",
          "model_name": "LayoutModel",
          "state": {
            "_model_module": "@jupyter-widgets/base",
            "_model_module_version": "1.2.0",
            "_model_name": "LayoutModel",
            "_view_count": null,
            "_view_module": "@jupyter-widgets/base",
            "_view_module_version": "1.2.0",
            "_view_name": "LayoutView",
            "align_content": null,
            "align_items": null,
            "align_self": null,
            "border": null,
            "bottom": null,
            "display": null,
            "flex": null,
            "flex_flow": null,
            "grid_area": null,
            "grid_auto_columns": null,
            "grid_auto_flow": null,
            "grid_auto_rows": null,
            "grid_column": null,
            "grid_gap": null,
            "grid_row": null,
            "grid_template_areas": null,
            "grid_template_columns": null,
            "grid_template_rows": null,
            "height": null,
            "justify_content": null,
            "justify_items": null,
            "left": null,
            "margin": null,
            "max_height": null,
            "max_width": null,
            "min_height": null,
            "min_width": null,
            "object_fit": null,
            "object_position": null,
            "order": null,
            "overflow": null,
            "overflow_x": null,
            "overflow_y": null,
            "padding": null,
            "right": null,
            "top": null,
            "visibility": null,
            "width": null
          }
        },
        "50bd3c3602784dc3a669f6f7abb65c5e": {
          "model_module": "@jupyter-widgets/controls",
          "model_module_version": "1.5.0",
          "model_name": "HTMLModel",
          "state": {
            "_dom_classes": [],
            "_model_module": "@jupyter-widgets/controls",
            "_model_module_version": "1.5.0",
            "_model_name": "HTMLModel",
            "_view_count": null,
            "_view_module": "@jupyter-widgets/controls",
            "_view_module_version": "1.5.0",
            "_view_name": "HTMLView",
            "description": "",
            "description_tooltip": null,
            "layout": "IPY_MODEL_a2b7b5ec1ff740aeb29918060479b095",
            "placeholder": "​",
            "style": "IPY_MODEL_12bbf121995749718ef1edfcb864ffe3",
            "value": "100%"
          }
        },
        "51869712e25a41e9a68045a83f833b14": {
          "model_module": "@jupyter-widgets/controls",
          "model_module_version": "1.5.0",
          "model_name": "FloatProgressModel",
          "state": {
            "_dom_classes": [],
            "_model_module": "@jupyter-widgets/controls",
            "_model_module_version": "1.5.0",
            "_model_name": "FloatProgressModel",
            "_view_count": null,
            "_view_module": "@jupyter-widgets/controls",
            "_view_module_version": "1.5.0",
            "_view_name": "ProgressView",
            "bar_style": "success",
            "description": "",
            "description_tooltip": null,
            "layout": "IPY_MODEL_7f6c905db06c4cdfbade2be11f0b2e08",
            "max": 169001437,
            "min": 0,
            "orientation": "horizontal",
            "style": "IPY_MODEL_a4a3858b2fb74181aa386eaefab084f1",
            "value": 169001437
          }
        },
        "5462c5476b854ef497d2136b7db260bf": {
          "model_module": "@jupyter-widgets/base",
          "model_module_version": "1.2.0",
          "model_name": "LayoutModel",
          "state": {
            "_model_module": "@jupyter-widgets/base",
            "_model_module_version": "1.2.0",
            "_model_name": "LayoutModel",
            "_view_count": null,
            "_view_module": "@jupyter-widgets/base",
            "_view_module_version": "1.2.0",
            "_view_name": "LayoutView",
            "align_content": null,
            "align_items": null,
            "align_self": null,
            "border": null,
            "bottom": null,
            "display": null,
            "flex": null,
            "flex_flow": null,
            "grid_area": null,
            "grid_auto_columns": null,
            "grid_auto_flow": null,
            "grid_auto_rows": null,
            "grid_column": null,
            "grid_gap": null,
            "grid_row": null,
            "grid_template_areas": null,
            "grid_template_columns": null,
            "grid_template_rows": null,
            "height": null,
            "justify_content": null,
            "justify_items": null,
            "left": null,
            "margin": null,
            "max_height": null,
            "max_width": null,
            "min_height": null,
            "min_width": null,
            "object_fit": null,
            "object_position": null,
            "order": null,
            "overflow": null,
            "overflow_x": null,
            "overflow_y": null,
            "padding": null,
            "right": null,
            "top": null,
            "visibility": null,
            "width": null
          }
        },
        "7eaa71c797854323a1f127235974a307": {
          "model_module": "@jupyter-widgets/controls",
          "model_module_version": "1.5.0",
          "model_name": "ProgressStyleModel",
          "state": {
            "_model_module": "@jupyter-widgets/controls",
            "_model_module_version": "1.5.0",
            "_model_name": "ProgressStyleModel",
            "_view_count": null,
            "_view_module": "@jupyter-widgets/base",
            "_view_module_version": "1.2.0",
            "_view_name": "StyleView",
            "bar_color": null,
            "description_width": ""
          }
        },
        "7f6c905db06c4cdfbade2be11f0b2e08": {
          "model_module": "@jupyter-widgets/base",
          "model_module_version": "1.2.0",
          "model_name": "LayoutModel",
          "state": {
            "_model_module": "@jupyter-widgets/base",
            "_model_module_version": "1.2.0",
            "_model_name": "LayoutModel",
            "_view_count": null,
            "_view_module": "@jupyter-widgets/base",
            "_view_module_version": "1.2.0",
            "_view_name": "LayoutView",
            "align_content": null,
            "align_items": null,
            "align_self": null,
            "border": null,
            "bottom": null,
            "display": null,
            "flex": null,
            "flex_flow": null,
            "grid_area": null,
            "grid_auto_columns": null,
            "grid_auto_flow": null,
            "grid_auto_rows": null,
            "grid_column": null,
            "grid_gap": null,
            "grid_row": null,
            "grid_template_areas": null,
            "grid_template_columns": null,
            "grid_template_rows": null,
            "height": null,
            "justify_content": null,
            "justify_items": null,
            "left": null,
            "margin": null,
            "max_height": null,
            "max_width": null,
            "min_height": null,
            "min_width": null,
            "object_fit": null,
            "object_position": null,
            "order": null,
            "overflow": null,
            "overflow_x": null,
            "overflow_y": null,
            "padding": null,
            "right": null,
            "top": null,
            "visibility": null,
            "width": null
          }
        },
        "8f0ca3417a27437c92b14201fddd6066": {
          "model_module": "@jupyter-widgets/controls",
          "model_module_version": "1.5.0",
          "model_name": "HTMLModel",
          "state": {
            "_dom_classes": [],
            "_model_module": "@jupyter-widgets/controls",
            "_model_module_version": "1.5.0",
            "_model_name": "HTMLModel",
            "_view_count": null,
            "_view_module": "@jupyter-widgets/controls",
            "_view_module_version": "1.5.0",
            "_view_name": "HTMLView",
            "description": "",
            "description_tooltip": null,
            "layout": "IPY_MODEL_5462c5476b854ef497d2136b7db260bf",
            "placeholder": "​",
            "style": "IPY_MODEL_f4d6122fe47f4b83b593ee2b5f47d827",
            "value": "100%"
          }
        },
        "a2b7b5ec1ff740aeb29918060479b095": {
          "model_module": "@jupyter-widgets/base",
          "model_module_version": "1.2.0",
          "model_name": "LayoutModel",
          "state": {
            "_model_module": "@jupyter-widgets/base",
            "_model_module_version": "1.2.0",
            "_model_name": "LayoutModel",
            "_view_count": null,
            "_view_module": "@jupyter-widgets/base",
            "_view_module_version": "1.2.0",
            "_view_name": "LayoutView",
            "align_content": null,
            "align_items": null,
            "align_self": null,
            "border": null,
            "bottom": null,
            "display": null,
            "flex": null,
            "flex_flow": null,
            "grid_area": null,
            "grid_auto_columns": null,
            "grid_auto_flow": null,
            "grid_auto_rows": null,
            "grid_column": null,
            "grid_gap": null,
            "grid_row": null,
            "grid_template_areas": null,
            "grid_template_columns": null,
            "grid_template_rows": null,
            "height": null,
            "justify_content": null,
            "justify_items": null,
            "left": null,
            "margin": null,
            "max_height": null,
            "max_width": null,
            "min_height": null,
            "min_width": null,
            "object_fit": null,
            "object_position": null,
            "order": null,
            "overflow": null,
            "overflow_x": null,
            "overflow_y": null,
            "padding": null,
            "right": null,
            "top": null,
            "visibility": null,
            "width": null
          }
        },
        "a4a3858b2fb74181aa386eaefab084f1": {
          "model_module": "@jupyter-widgets/controls",
          "model_module_version": "1.5.0",
          "model_name": "ProgressStyleModel",
          "state": {
            "_model_module": "@jupyter-widgets/controls",
            "_model_module_version": "1.5.0",
            "_model_name": "ProgressStyleModel",
            "_view_count": null,
            "_view_module": "@jupyter-widgets/base",
            "_view_module_version": "1.2.0",
            "_view_name": "StyleView",
            "bar_color": null,
            "description_width": ""
          }
        },
        "a834a4b92e21468b96637ff3f2ca7517": {
          "model_module": "@jupyter-widgets/controls",
          "model_module_version": "1.5.0",
          "model_name": "HBoxModel",
          "state": {
            "_dom_classes": [],
            "_model_module": "@jupyter-widgets/controls",
            "_model_module_version": "1.5.0",
            "_model_name": "HBoxModel",
            "_view_count": null,
            "_view_module": "@jupyter-widgets/controls",
            "_view_module_version": "1.5.0",
            "_view_name": "HBoxView",
            "box_style": "",
            "children": [
              "IPY_MODEL_8f0ca3417a27437c92b14201fddd6066",
              "IPY_MODEL_51869712e25a41e9a68045a83f833b14",
              "IPY_MODEL_b5cb2d0158c8491191b101ba7633e8af"
            ],
            "layout": "IPY_MODEL_d23cb4a78dd74fb78a7ffa3ddc2c9b04"
          }
        },
        "b5cb2d0158c8491191b101ba7633e8af": {
          "model_module": "@jupyter-widgets/controls",
          "model_module_version": "1.5.0",
          "model_name": "HTMLModel",
          "state": {
            "_dom_classes": [],
            "_model_module": "@jupyter-widgets/controls",
            "_model_module_version": "1.5.0",
            "_model_name": "HTMLModel",
            "_view_count": null,
            "_view_module": "@jupyter-widgets/controls",
            "_view_module_version": "1.5.0",
            "_view_name": "HTMLView",
            "description": "",
            "description_tooltip": null,
            "layout": "IPY_MODEL_e97267dfd6214a3a8ed4a3fcf4474301",
            "placeholder": "​",
            "style": "IPY_MODEL_2aedab16b5c34aca94fec2f4edd51265",
            "value": " 169001437/169001437 [00:03&lt;00:00, 51467328.33it/s]"
          }
        },
        "ba22fb77617a483a9b23dca7b853e917": {
          "model_module": "@jupyter-widgets/controls",
          "model_module_version": "1.5.0",
          "model_name": "HTMLModel",
          "state": {
            "_dom_classes": [],
            "_model_module": "@jupyter-widgets/controls",
            "_model_module_version": "1.5.0",
            "_model_name": "HTMLModel",
            "_view_count": null,
            "_view_module": "@jupyter-widgets/controls",
            "_view_module_version": "1.5.0",
            "_view_name": "HTMLView",
            "description": "",
            "description_tooltip": null,
            "layout": "IPY_MODEL_ee66afb0b1714b3e9385789b0335ec4b",
            "placeholder": "​",
            "style": "IPY_MODEL_ff83d8950b184204940968ff28774596",
            "value": " 3.41M/3.41M [00:00&lt;00:00, 58.3MB/s]"
          }
        },
        "c53f2ec413054a05bd787db2f4c1fd1c": {
          "model_module": "@jupyter-widgets/controls",
          "model_module_version": "1.5.0",
          "model_name": "HBoxModel",
          "state": {
            "_dom_classes": [],
            "_model_module": "@jupyter-widgets/controls",
            "_model_module_version": "1.5.0",
            "_model_name": "HBoxModel",
            "_view_count": null,
            "_view_module": "@jupyter-widgets/controls",
            "_view_module_version": "1.5.0",
            "_view_name": "HBoxView",
            "box_style": "",
            "children": [
              "IPY_MODEL_50bd3c3602784dc3a669f6f7abb65c5e",
              "IPY_MODEL_d816fbe50baf49be88361ed4b72a7b52",
              "IPY_MODEL_ba22fb77617a483a9b23dca7b853e917"
            ],
            "layout": "IPY_MODEL_cb259a76734e47bc801ecb3d656b775e"
          }
        },
        "cb259a76734e47bc801ecb3d656b775e": {
          "model_module": "@jupyter-widgets/base",
          "model_module_version": "1.2.0",
          "model_name": "LayoutModel",
          "state": {
            "_model_module": "@jupyter-widgets/base",
            "_model_module_version": "1.2.0",
            "_model_name": "LayoutModel",
            "_view_count": null,
            "_view_module": "@jupyter-widgets/base",
            "_view_module_version": "1.2.0",
            "_view_name": "LayoutView",
            "align_content": null,
            "align_items": null,
            "align_self": null,
            "border": null,
            "bottom": null,
            "display": null,
            "flex": null,
            "flex_flow": null,
            "grid_area": null,
            "grid_auto_columns": null,
            "grid_auto_flow": null,
            "grid_auto_rows": null,
            "grid_column": null,
            "grid_gap": null,
            "grid_row": null,
            "grid_template_areas": null,
            "grid_template_columns": null,
            "grid_template_rows": null,
            "height": null,
            "justify_content": null,
            "justify_items": null,
            "left": null,
            "margin": null,
            "max_height": null,
            "max_width": null,
            "min_height": null,
            "min_width": null,
            "object_fit": null,
            "object_position": null,
            "order": null,
            "overflow": null,
            "overflow_x": null,
            "overflow_y": null,
            "padding": null,
            "right": null,
            "top": null,
            "visibility": null,
            "width": null
          }
        },
        "d23cb4a78dd74fb78a7ffa3ddc2c9b04": {
          "model_module": "@jupyter-widgets/base",
          "model_module_version": "1.2.0",
          "model_name": "LayoutModel",
          "state": {
            "_model_module": "@jupyter-widgets/base",
            "_model_module_version": "1.2.0",
            "_model_name": "LayoutModel",
            "_view_count": null,
            "_view_module": "@jupyter-widgets/base",
            "_view_module_version": "1.2.0",
            "_view_name": "LayoutView",
            "align_content": null,
            "align_items": null,
            "align_self": null,
            "border": null,
            "bottom": null,
            "display": null,
            "flex": null,
            "flex_flow": null,
            "grid_area": null,
            "grid_auto_columns": null,
            "grid_auto_flow": null,
            "grid_auto_rows": null,
            "grid_column": null,
            "grid_gap": null,
            "grid_row": null,
            "grid_template_areas": null,
            "grid_template_columns": null,
            "grid_template_rows": null,
            "height": null,
            "justify_content": null,
            "justify_items": null,
            "left": null,
            "margin": null,
            "max_height": null,
            "max_width": null,
            "min_height": null,
            "min_width": null,
            "object_fit": null,
            "object_position": null,
            "order": null,
            "overflow": null,
            "overflow_x": null,
            "overflow_y": null,
            "padding": null,
            "right": null,
            "top": null,
            "visibility": null,
            "width": null
          }
        },
        "d816fbe50baf49be88361ed4b72a7b52": {
          "model_module": "@jupyter-widgets/controls",
          "model_module_version": "1.5.0",
          "model_name": "FloatProgressModel",
          "state": {
            "_dom_classes": [],
            "_model_module": "@jupyter-widgets/controls",
            "_model_module_version": "1.5.0",
            "_model_name": "FloatProgressModel",
            "_view_count": null,
            "_view_module": "@jupyter-widgets/controls",
            "_view_module_version": "1.5.0",
            "_view_name": "ProgressView",
            "bar_style": "success",
            "description": "",
            "description_tooltip": null,
            "layout": "IPY_MODEL_46ea12d85ce4423b911f0971a86ca618",
            "max": 3578887,
            "min": 0,
            "orientation": "horizontal",
            "style": "IPY_MODEL_7eaa71c797854323a1f127235974a307",
            "value": 3578887
          }
        },
        "e97267dfd6214a3a8ed4a3fcf4474301": {
          "model_module": "@jupyter-widgets/base",
          "model_module_version": "1.2.0",
          "model_name": "LayoutModel",
          "state": {
            "_model_module": "@jupyter-widgets/base",
            "_model_module_version": "1.2.0",
            "_model_name": "LayoutModel",
            "_view_count": null,
            "_view_module": "@jupyter-widgets/base",
            "_view_module_version": "1.2.0",
            "_view_name": "LayoutView",
            "align_content": null,
            "align_items": null,
            "align_self": null,
            "border": null,
            "bottom": null,
            "display": null,
            "flex": null,
            "flex_flow": null,
            "grid_area": null,
            "grid_auto_columns": null,
            "grid_auto_flow": null,
            "grid_auto_rows": null,
            "grid_column": null,
            "grid_gap": null,
            "grid_row": null,
            "grid_template_areas": null,
            "grid_template_columns": null,
            "grid_template_rows": null,
            "height": null,
            "justify_content": null,
            "justify_items": null,
            "left": null,
            "margin": null,
            "max_height": null,
            "max_width": null,
            "min_height": null,
            "min_width": null,
            "object_fit": null,
            "object_position": null,
            "order": null,
            "overflow": null,
            "overflow_x": null,
            "overflow_y": null,
            "padding": null,
            "right": null,
            "top": null,
            "visibility": null,
            "width": null
          }
        },
        "ee66afb0b1714b3e9385789b0335ec4b": {
          "model_module": "@jupyter-widgets/base",
          "model_module_version": "1.2.0",
          "model_name": "LayoutModel",
          "state": {
            "_model_module": "@jupyter-widgets/base",
            "_model_module_version": "1.2.0",
            "_model_name": "LayoutModel",
            "_view_count": null,
            "_view_module": "@jupyter-widgets/base",
            "_view_module_version": "1.2.0",
            "_view_name": "LayoutView",
            "align_content": null,
            "align_items": null,
            "align_self": null,
            "border": null,
            "bottom": null,
            "display": null,
            "flex": null,
            "flex_flow": null,
            "grid_area": null,
            "grid_auto_columns": null,
            "grid_auto_flow": null,
            "grid_auto_rows": null,
            "grid_column": null,
            "grid_gap": null,
            "grid_row": null,
            "grid_template_areas": null,
            "grid_template_columns": null,
            "grid_template_rows": null,
            "height": null,
            "justify_content": null,
            "justify_items": null,
            "left": null,
            "margin": null,
            "max_height": null,
            "max_width": null,
            "min_height": null,
            "min_width": null,
            "object_fit": null,
            "object_position": null,
            "order": null,
            "overflow": null,
            "overflow_x": null,
            "overflow_y": null,
            "padding": null,
            "right": null,
            "top": null,
            "visibility": null,
            "width": null
          }
        },
        "f4d6122fe47f4b83b593ee2b5f47d827": {
          "model_module": "@jupyter-widgets/controls",
          "model_module_version": "1.5.0",
          "model_name": "DescriptionStyleModel",
          "state": {
            "_model_module": "@jupyter-widgets/controls",
            "_model_module_version": "1.5.0",
            "_model_name": "DescriptionStyleModel",
            "_view_count": null,
            "_view_module": "@jupyter-widgets/base",
            "_view_module_version": "1.2.0",
            "_view_name": "StyleView",
            "description_width": ""
          }
        },
        "ff83d8950b184204940968ff28774596": {
          "model_module": "@jupyter-widgets/controls",
          "model_module_version": "1.5.0",
          "model_name": "DescriptionStyleModel",
          "state": {
            "_model_module": "@jupyter-widgets/controls",
            "_model_module_version": "1.5.0",
            "_model_name": "DescriptionStyleModel",
            "_view_count": null,
            "_view_module": "@jupyter-widgets/base",
            "_view_module_version": "1.2.0",
            "_view_name": "StyleView",
            "description_width": ""
          }
        }
      }
    }
  },
  "nbformat": 4,
  "nbformat_minor": 0
}
